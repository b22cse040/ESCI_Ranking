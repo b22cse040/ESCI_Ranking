{
  "nbformat": 4,
  "nbformat_minor": 0,
  "metadata": {
    "colab": {
      "provenance": []
    },
    "kernelspec": {
      "name": "python3",
      "display_name": "Python 3"
    },
    "language_info": {
      "name": "python"
    }
  },
  "cells": [
    {
      "cell_type": "code",
      "source": [
        "!pip install -U datasets"
      ],
      "metadata": {
        "colab": {
          "base_uri": "https://localhost:8080/"
        },
        "id": "_Vk_insKsGCq",
        "outputId": "a3859c4d-a3e7-4dd6-fa08-c8c2e12f5f47"
      },
      "execution_count": 21,
      "outputs": [
        {
          "output_type": "stream",
          "name": "stdout",
          "text": [
            "Requirement already satisfied: datasets in /usr/local/lib/python3.11/dist-packages (3.6.0)\n",
            "Requirement already satisfied: filelock in /usr/local/lib/python3.11/dist-packages (from datasets) (3.18.0)\n",
            "Requirement already satisfied: numpy>=1.17 in /usr/local/lib/python3.11/dist-packages (from datasets) (2.0.2)\n",
            "Requirement already satisfied: pyarrow>=15.0.0 in /usr/local/lib/python3.11/dist-packages (from datasets) (18.1.0)\n",
            "Requirement already satisfied: dill<0.3.9,>=0.3.0 in /usr/local/lib/python3.11/dist-packages (from datasets) (0.3.7)\n",
            "Requirement already satisfied: pandas in /usr/local/lib/python3.11/dist-packages (from datasets) (2.2.2)\n",
            "Requirement already satisfied: requests>=2.32.2 in /usr/local/lib/python3.11/dist-packages (from datasets) (2.32.3)\n",
            "Requirement already satisfied: tqdm>=4.66.3 in /usr/local/lib/python3.11/dist-packages (from datasets) (4.67.1)\n",
            "Requirement already satisfied: xxhash in /usr/local/lib/python3.11/dist-packages (from datasets) (3.5.0)\n",
            "Requirement already satisfied: multiprocess<0.70.17 in /usr/local/lib/python3.11/dist-packages (from datasets) (0.70.15)\n",
            "Requirement already satisfied: fsspec<=2025.3.0,>=2023.1.0 in /usr/local/lib/python3.11/dist-packages (from fsspec[http]<=2025.3.0,>=2023.1.0->datasets) (2025.3.0)\n",
            "Requirement already satisfied: huggingface-hub>=0.24.0 in /usr/local/lib/python3.11/dist-packages (from datasets) (0.31.4)\n",
            "Requirement already satisfied: packaging in /usr/local/lib/python3.11/dist-packages (from datasets) (24.2)\n",
            "Requirement already satisfied: pyyaml>=5.1 in /usr/local/lib/python3.11/dist-packages (from datasets) (6.0.2)\n",
            "Requirement already satisfied: aiohttp!=4.0.0a0,!=4.0.0a1 in /usr/local/lib/python3.11/dist-packages (from fsspec[http]<=2025.3.0,>=2023.1.0->datasets) (3.11.15)\n",
            "Requirement already satisfied: typing-extensions>=3.7.4.3 in /usr/local/lib/python3.11/dist-packages (from huggingface-hub>=0.24.0->datasets) (4.13.2)\n",
            "Requirement already satisfied: charset-normalizer<4,>=2 in /usr/local/lib/python3.11/dist-packages (from requests>=2.32.2->datasets) (3.4.2)\n",
            "Requirement already satisfied: idna<4,>=2.5 in /usr/local/lib/python3.11/dist-packages (from requests>=2.32.2->datasets) (3.10)\n",
            "Requirement already satisfied: urllib3<3,>=1.21.1 in /usr/local/lib/python3.11/dist-packages (from requests>=2.32.2->datasets) (2.4.0)\n",
            "Requirement already satisfied: certifi>=2017.4.17 in /usr/local/lib/python3.11/dist-packages (from requests>=2.32.2->datasets) (2025.4.26)\n",
            "Requirement already satisfied: python-dateutil>=2.8.2 in /usr/local/lib/python3.11/dist-packages (from pandas->datasets) (2.9.0.post0)\n",
            "Requirement already satisfied: pytz>=2020.1 in /usr/local/lib/python3.11/dist-packages (from pandas->datasets) (2025.2)\n",
            "Requirement already satisfied: tzdata>=2022.7 in /usr/local/lib/python3.11/dist-packages (from pandas->datasets) (2025.2)\n",
            "Requirement already satisfied: aiohappyeyeballs>=2.3.0 in /usr/local/lib/python3.11/dist-packages (from aiohttp!=4.0.0a0,!=4.0.0a1->fsspec[http]<=2025.3.0,>=2023.1.0->datasets) (2.6.1)\n",
            "Requirement already satisfied: aiosignal>=1.1.2 in /usr/local/lib/python3.11/dist-packages (from aiohttp!=4.0.0a0,!=4.0.0a1->fsspec[http]<=2025.3.0,>=2023.1.0->datasets) (1.3.2)\n",
            "Requirement already satisfied: attrs>=17.3.0 in /usr/local/lib/python3.11/dist-packages (from aiohttp!=4.0.0a0,!=4.0.0a1->fsspec[http]<=2025.3.0,>=2023.1.0->datasets) (25.3.0)\n",
            "Requirement already satisfied: frozenlist>=1.1.1 in /usr/local/lib/python3.11/dist-packages (from aiohttp!=4.0.0a0,!=4.0.0a1->fsspec[http]<=2025.3.0,>=2023.1.0->datasets) (1.6.0)\n",
            "Requirement already satisfied: multidict<7.0,>=4.5 in /usr/local/lib/python3.11/dist-packages (from aiohttp!=4.0.0a0,!=4.0.0a1->fsspec[http]<=2025.3.0,>=2023.1.0->datasets) (6.4.4)\n",
            "Requirement already satisfied: propcache>=0.2.0 in /usr/local/lib/python3.11/dist-packages (from aiohttp!=4.0.0a0,!=4.0.0a1->fsspec[http]<=2025.3.0,>=2023.1.0->datasets) (0.3.1)\n",
            "Requirement already satisfied: yarl<2.0,>=1.17.0 in /usr/local/lib/python3.11/dist-packages (from aiohttp!=4.0.0a0,!=4.0.0a1->fsspec[http]<=2025.3.0,>=2023.1.0->datasets) (1.20.0)\n",
            "Requirement already satisfied: six>=1.5 in /usr/local/lib/python3.11/dist-packages (from python-dateutil>=2.8.2->pandas->datasets) (1.17.0)\n"
          ]
        }
      ]
    },
    {
      "cell_type": "code",
      "execution_count": 22,
      "metadata": {
        "colab": {
          "base_uri": "https://localhost:8080/"
        },
        "id": "kSbu7UHpsCD0",
        "outputId": "a2aaf3b0-3545-4d51-e228-30dcf16522f6"
      },
      "outputs": [
        {
          "output_type": "stream",
          "name": "stdout",
          "text": [
            "Schema([('query', String), ('product_locale', String), ('esci_label', String), ('product_title', String), ('product_description', String), ('product_bullet_point', String), ('product_brand', String), ('product_color', String), ('product_text', String)])\n",
            "shape: (5, 9)\n",
            "┌───────────┬───────────┬───────────┬───────────┬───┬───────────┬───────────┬───────────┬──────────┐\n",
            "│ query     ┆ product_l ┆ esci_labe ┆ product_t ┆ … ┆ product_b ┆ product_b ┆ product_c ┆ product_ │\n",
            "│ ---       ┆ ocale     ┆ l         ┆ itle      ┆   ┆ ullet_poi ┆ rand      ┆ olor      ┆ text     │\n",
            "│ str       ┆ ---       ┆ ---       ┆ ---       ┆   ┆ nt        ┆ ---       ┆ ---       ┆ ---      │\n",
            "│           ┆ str       ┆ str       ┆ str       ┆   ┆ ---       ┆ str       ┆ str       ┆ str      │\n",
            "│           ┆           ┆           ┆           ┆   ┆ str       ┆           ┆           ┆          │\n",
            "╞═══════════╪═══════════╪═══════════╪═══════════╪═══╪═══════════╪═══════════╪═══════════╪══════════╡\n",
            "│ revent 80 ┆ us        ┆ Irrelevan ┆ Panasonic ┆ … ┆ WhisperCe ┆ Panasonic ┆ White     ┆ Panasoni │\n",
            "│ cfm       ┆           ┆ t         ┆ FV-20VQ3  ┆   ┆ iling     ┆           ┆           ┆ c        │\n",
            "│           ┆           ┆           ┆ WhisperCe ┆   ┆ fans      ┆           ┆           ┆ FV-20VQ3 │\n",
            "│           ┆           ┆           ┆ il…       ┆   ┆ feature a ┆           ┆           ┆ WhisperC │\n",
            "│           ┆           ┆           ┆           ┆   ┆ …         ┆           ┆           ┆ eil…     │\n",
            "│ bathroom  ┆ us        ┆ Exact     ┆ Panasonic ┆ … ┆ WhisperCe ┆ Panasonic ┆ White     ┆ Panasoni │\n",
            "│ fan       ┆           ┆           ┆ FV-20VQ3  ┆   ┆ iling     ┆           ┆           ┆ c        │\n",
            "│ without   ┆           ┆           ┆ WhisperCe ┆   ┆ fans      ┆           ┆           ┆ FV-20VQ3 │\n",
            "│ light     ┆           ┆           ┆ il…       ┆   ┆ feature a ┆           ┆           ┆ WhisperC │\n",
            "│           ┆           ┆           ┆           ┆   ┆ …         ┆           ┆           ┆ eil…     │\n",
            "│ revent 80 ┆ us        ┆ Exact     ┆ Homewerks ┆ … ┆ OUTSTANDI ┆ Homewerks ┆ 80 CFM    ┆ Homewerk │\n",
            "│ cfm       ┆           ┆           ┆ 7141-80   ┆   ┆ NG PERFOR ┆           ┆           ┆ s        │\n",
            "│           ┆           ┆           ┆ Bathroom  ┆   ┆ MANCE:    ┆           ┆           ┆ 7141-80  │\n",
            "│           ┆           ┆           ┆ Fan…      ┆   ┆ This …    ┆           ┆           ┆ Bathroom │\n",
            "│           ┆           ┆           ┆           ┆   ┆           ┆           ┆           ┆ Fan…     │\n",
            "│ revent 80 ┆ us        ┆ Exact     ┆ Homewerks ┆ … ┆ OUTSTANDI ┆ Homewerks ┆ White     ┆ Homewerk │\n",
            "│ cfm       ┆           ┆           ┆ 7140-80   ┆   ┆ NG PERFOR ┆           ┆           ┆ s        │\n",
            "│           ┆           ┆           ┆ Bathroom  ┆   ┆ MANCE:    ┆           ┆           ┆ 7140-80  │\n",
            "│           ┆           ┆           ┆ Fan…      ┆   ┆ This …    ┆           ┆           ┆ Bathroom │\n",
            "│           ┆           ┆           ┆           ┆   ┆           ┆           ┆           ┆ Fan…     │\n",
            "│ revent 80 ┆ us        ┆ Exact     ┆ Delta Ele ┆ … ┆ Quiet     ┆ DELTA ELE ┆ White     ┆ Delta    │\n",
            "│ cfm       ┆           ┆           ┆ ctronics  ┆   ┆ operation ┆ CTRONICS  ┆           ┆ Electron │\n",
            "│           ┆           ┆           ┆ RAD80L    ┆   ┆ at 1.5    ┆ (AMERICAS ┆           ┆ ics      │\n",
            "│           ┆           ┆           ┆ Breez…    ┆   ┆ sones     ┆ ) L…      ┆           ┆ RAD80L   │\n",
            "│           ┆           ┆           ┆           ┆   ┆ B…        ┆           ┆           ┆ Breez…   │\n",
            "└───────────┴───────────┴───────────┴───────────┴───┴───────────┴───────────┴───────────┴──────────┘\n"
          ]
        }
      ],
      "source": [
        "import polars as pl\n",
        "from datasets import load_dataset\n",
        "\n",
        "train_dataset = load_dataset(\"tasksource/esci\", split=\"train[:500000]\")\n",
        "test_dataset = load_dataset(\"tasksource/esci\", split=\"test[:250000]\")\n",
        "\n",
        "train_df = pl.from_pandas(train_dataset.to_pandas())\n",
        "test_df = pl.from_pandas(test_dataset.to_pandas())\n",
        "\n",
        "cols_to_be_dropped = [\n",
        "    \"example_id\", \"query_id\", \"product_id\",\n",
        "    \"small_version\", \"large_version\",\n",
        "]\n",
        "\n",
        "train_df = train_df.drop(cols_to_be_dropped)\n",
        "test_df = test_df.drop(cols_to_be_dropped)\n",
        "\n",
        "print(train_df.schema)\n",
        "print(train_df.head(5))"
      ]
    },
    {
      "cell_type": "code",
      "source": [
        "# print(train_df.schema)\n",
        "print(train_df.head(5))"
      ],
      "metadata": {
        "colab": {
          "base_uri": "https://localhost:8080/"
        },
        "id": "9JquPgY9slUy",
        "outputId": "26054d79-3d37-4900-8dc5-67f49eb5897f"
      },
      "execution_count": 23,
      "outputs": [
        {
          "output_type": "stream",
          "name": "stdout",
          "text": [
            "shape: (5, 9)\n",
            "┌───────────┬───────────┬───────────┬───────────┬───┬───────────┬───────────┬───────────┬──────────┐\n",
            "│ query     ┆ product_l ┆ esci_labe ┆ product_t ┆ … ┆ product_b ┆ product_b ┆ product_c ┆ product_ │\n",
            "│ ---       ┆ ocale     ┆ l         ┆ itle      ┆   ┆ ullet_poi ┆ rand      ┆ olor      ┆ text     │\n",
            "│ str       ┆ ---       ┆ ---       ┆ ---       ┆   ┆ nt        ┆ ---       ┆ ---       ┆ ---      │\n",
            "│           ┆ str       ┆ str       ┆ str       ┆   ┆ ---       ┆ str       ┆ str       ┆ str      │\n",
            "│           ┆           ┆           ┆           ┆   ┆ str       ┆           ┆           ┆          │\n",
            "╞═══════════╪═══════════╪═══════════╪═══════════╪═══╪═══════════╪═══════════╪═══════════╪══════════╡\n",
            "│ revent 80 ┆ us        ┆ Irrelevan ┆ Panasonic ┆ … ┆ WhisperCe ┆ Panasonic ┆ White     ┆ Panasoni │\n",
            "│ cfm       ┆           ┆ t         ┆ FV-20VQ3  ┆   ┆ iling     ┆           ┆           ┆ c        │\n",
            "│           ┆           ┆           ┆ WhisperCe ┆   ┆ fans      ┆           ┆           ┆ FV-20VQ3 │\n",
            "│           ┆           ┆           ┆ il…       ┆   ┆ feature a ┆           ┆           ┆ WhisperC │\n",
            "│           ┆           ┆           ┆           ┆   ┆ …         ┆           ┆           ┆ eil…     │\n",
            "│ bathroom  ┆ us        ┆ Exact     ┆ Panasonic ┆ … ┆ WhisperCe ┆ Panasonic ┆ White     ┆ Panasoni │\n",
            "│ fan       ┆           ┆           ┆ FV-20VQ3  ┆   ┆ iling     ┆           ┆           ┆ c        │\n",
            "│ without   ┆           ┆           ┆ WhisperCe ┆   ┆ fans      ┆           ┆           ┆ FV-20VQ3 │\n",
            "│ light     ┆           ┆           ┆ il…       ┆   ┆ feature a ┆           ┆           ┆ WhisperC │\n",
            "│           ┆           ┆           ┆           ┆   ┆ …         ┆           ┆           ┆ eil…     │\n",
            "│ revent 80 ┆ us        ┆ Exact     ┆ Homewerks ┆ … ┆ OUTSTANDI ┆ Homewerks ┆ 80 CFM    ┆ Homewerk │\n",
            "│ cfm       ┆           ┆           ┆ 7141-80   ┆   ┆ NG PERFOR ┆           ┆           ┆ s        │\n",
            "│           ┆           ┆           ┆ Bathroom  ┆   ┆ MANCE:    ┆           ┆           ┆ 7141-80  │\n",
            "│           ┆           ┆           ┆ Fan…      ┆   ┆ This …    ┆           ┆           ┆ Bathroom │\n",
            "│           ┆           ┆           ┆           ┆   ┆           ┆           ┆           ┆ Fan…     │\n",
            "│ revent 80 ┆ us        ┆ Exact     ┆ Homewerks ┆ … ┆ OUTSTANDI ┆ Homewerks ┆ White     ┆ Homewerk │\n",
            "│ cfm       ┆           ┆           ┆ 7140-80   ┆   ┆ NG PERFOR ┆           ┆           ┆ s        │\n",
            "│           ┆           ┆           ┆ Bathroom  ┆   ┆ MANCE:    ┆           ┆           ┆ 7140-80  │\n",
            "│           ┆           ┆           ┆ Fan…      ┆   ┆ This …    ┆           ┆           ┆ Bathroom │\n",
            "│           ┆           ┆           ┆           ┆   ┆           ┆           ┆           ┆ Fan…     │\n",
            "│ revent 80 ┆ us        ┆ Exact     ┆ Delta Ele ┆ … ┆ Quiet     ┆ DELTA ELE ┆ White     ┆ Delta    │\n",
            "│ cfm       ┆           ┆           ┆ ctronics  ┆   ┆ operation ┆ CTRONICS  ┆           ┆ Electron │\n",
            "│           ┆           ┆           ┆ RAD80L    ┆   ┆ at 1.5    ┆ (AMERICAS ┆           ┆ ics      │\n",
            "│           ┆           ┆           ┆ Breez…    ┆   ┆ sones     ┆ ) L…      ┆           ┆ RAD80L   │\n",
            "│           ┆           ┆           ┆           ┆   ┆ B…        ┆           ┆           ┆ Breez…   │\n",
            "└───────────┴───────────┴───────────┴───────────┴───┴───────────┴───────────┴───────────┴──────────┘\n"
          ]
        }
      ]
    },
    {
      "cell_type": "code",
      "source": [
        "train_us = train_df.filter(pl.col(\"product_locale\") == \"us\")\n",
        "\n",
        "query_counts = (\n",
        "    train_us\n",
        "    .group_by(\"query\")\n",
        "    .agg(pl.count().alias(\"product_count\"))\n",
        "    .filter(pl.col(\"product_count\") >= 10)\n",
        ")\n",
        "\n",
        "filtered_df = train_us.join(query_counts, on=\"query\", how=\"inner\")\n",
        "# filtered_df = filtered_df.drop(\"product_count\")\n",
        "\n",
        "print(filtered_df.shape)\n",
        "print(filtered_df.head(5))"
      ],
      "metadata": {
        "colab": {
          "base_uri": "https://localhost:8080/"
        },
        "id": "BnMEh-pxs5ff",
        "outputId": "08325e83-a08f-42b6-8bc3-79e1319ad327"
      },
      "execution_count": 24,
      "outputs": [
        {
          "output_type": "stream",
          "name": "stdout",
          "text": [
            "(274200, 10)\n",
            "shape: (5, 10)\n",
            "┌───────────┬───────────┬───────────┬───────────┬───┬───────────┬───────────┬───────────┬──────────┐\n",
            "│ query     ┆ product_l ┆ esci_labe ┆ product_t ┆ … ┆ product_b ┆ product_c ┆ product_t ┆ product_ │\n",
            "│ ---       ┆ ocale     ┆ l         ┆ itle      ┆   ┆ rand      ┆ olor      ┆ ext       ┆ count    │\n",
            "│ str       ┆ ---       ┆ ---       ┆ ---       ┆   ┆ ---       ┆ ---       ┆ ---       ┆ ---      │\n",
            "│           ┆ str       ┆ str       ┆ str       ┆   ┆ str       ┆ str       ┆ str       ┆ u32      │\n",
            "╞═══════════╪═══════════╪═══════════╪═══════════╪═══╪═══════════╪═══════════╪═══════════╪══════════╡\n",
            "│ revent 80 ┆ us        ┆ Irrelevan ┆ Panasonic ┆ … ┆ Panasonic ┆ White     ┆ Panasonic ┆ 16       │\n",
            "│ cfm       ┆           ┆ t         ┆ FV-20VQ3  ┆   ┆           ┆           ┆ FV-20VQ3  ┆          │\n",
            "│           ┆           ┆           ┆ WhisperCe ┆   ┆           ┆           ┆ WhisperCe ┆          │\n",
            "│           ┆           ┆           ┆ il…       ┆   ┆           ┆           ┆ il…       ┆          │\n",
            "│ bathroom  ┆ us        ┆ Exact     ┆ Panasonic ┆ … ┆ Panasonic ┆ White     ┆ Panasonic ┆ 40       │\n",
            "│ fan       ┆           ┆           ┆ FV-20VQ3  ┆   ┆           ┆           ┆ FV-20VQ3  ┆          │\n",
            "│ without   ┆           ┆           ┆ WhisperCe ┆   ┆           ┆           ┆ WhisperCe ┆          │\n",
            "│ light     ┆           ┆           ┆ il…       ┆   ┆           ┆           ┆ il…       ┆          │\n",
            "│ revent 80 ┆ us        ┆ Exact     ┆ Homewerks ┆ … ┆ Homewerks ┆ 80 CFM    ┆ Homewerks ┆ 16       │\n",
            "│ cfm       ┆           ┆           ┆ 7141-80   ┆   ┆           ┆           ┆ 7141-80   ┆          │\n",
            "│           ┆           ┆           ┆ Bathroom  ┆   ┆           ┆           ┆ Bathroom  ┆          │\n",
            "│           ┆           ┆           ┆ Fan…      ┆   ┆           ┆           ┆ Fan…      ┆          │\n",
            "│ revent 80 ┆ us        ┆ Exact     ┆ Homewerks ┆ … ┆ Homewerks ┆ White     ┆ Homewerks ┆ 16       │\n",
            "│ cfm       ┆           ┆           ┆ 7140-80   ┆   ┆           ┆           ┆ 7140-80   ┆          │\n",
            "│           ┆           ┆           ┆ Bathroom  ┆   ┆           ┆           ┆ Bathroom  ┆          │\n",
            "│           ┆           ┆           ┆ Fan…      ┆   ┆           ┆           ┆ Fan…      ┆          │\n",
            "│ revent 80 ┆ us        ┆ Exact     ┆ Delta Ele ┆ … ┆ DELTA ELE ┆ White     ┆ Delta Ele ┆ 16       │\n",
            "│ cfm       ┆           ┆           ┆ ctronics  ┆   ┆ CTRONICS  ┆           ┆ ctronics  ┆          │\n",
            "│           ┆           ┆           ┆ RAD80L    ┆   ┆ (AMERICAS ┆           ┆ RAD80L    ┆          │\n",
            "│           ┆           ┆           ┆ Breez…    ┆   ┆ ) L…      ┆           ┆ Breez…    ┆          │\n",
            "└───────────┴───────────┴───────────┴───────────┴───┴───────────┴───────────┴───────────┴──────────┘\n"
          ]
        },
        {
          "output_type": "stream",
          "name": "stderr",
          "text": [
            "<ipython-input-24-b92ef047e998>:6: DeprecationWarning: `pl.count()` is deprecated. Please use `pl.len()` instead.\n",
            "  .agg(pl.count().alias(\"product_count\"))\n"
          ]
        }
      ]
    },
    {
      "cell_type": "code",
      "source": [
        "label_counts = (\n",
        "    filtered_df\n",
        "    .group_by(\"esci_label\")\n",
        "    .agg(pl.count().alias(\"count\"))\n",
        "    .sort(\"count\", descending=True)\n",
        ")\n",
        "\n",
        "print(label_counts)"
      ],
      "metadata": {
        "colab": {
          "base_uri": "https://localhost:8080/"
        },
        "id": "Y1gvxcNN0NSW",
        "outputId": "0120160b-3607-4172-a454-594981de025b"
      },
      "execution_count": 32,
      "outputs": [
        {
          "output_type": "stream",
          "name": "stdout",
          "text": [
            "shape: (4, 2)\n",
            "┌────────────┬────────┐\n",
            "│ esci_label ┆ count  │\n",
            "│ ---        ┆ ---    │\n",
            "│ str        ┆ u32    │\n",
            "╞════════════╪════════╡\n",
            "│ Exact      ┆ 180619 │\n",
            "│ Substitute ┆ 57393  │\n",
            "│ Irrelevant ┆ 30223  │\n",
            "│ Complement ┆ 5965   │\n",
            "└────────────┴────────┘\n"
          ]
        },
        {
          "output_type": "stream",
          "name": "stderr",
          "text": [
            "<ipython-input-32-c70923435192>:5: DeprecationWarning: `pl.count()` is deprecated. Please use `pl.len()` instead.\n",
            "  .agg(pl.count().alias(\"count\"))\n"
          ]
        }
      ]
    },
    {
      "cell_type": "code",
      "source": [
        "def filter_us_and_queries(df: pl.DataFrame, limit: int = None) -> pl.DataFrame:\n",
        "    df_us = df.filter(pl.col(\"product_locale\") == \"us\")\n",
        "\n",
        "    # Queries with >= 10 products\n",
        "    query_counts = (\n",
        "        df_us\n",
        "        .group_by(\"query\")\n",
        "        .agg(pl.count().alias(\"product_count\"))\n",
        "        .filter(pl.col(\"product_count\") >= 10)\n",
        "    )\n",
        "\n",
        "    # Join and optionally limit\n",
        "    filtered = df_us.join(query_counts, on=\"query\", how=\"inner\").drop(\"product_count\")\n",
        "\n",
        "    return filtered.head(limit) if limit is not None else filtered\n",
        "\n",
        "filtered_train_df = filter_us_and_queries(train_df, limit=75_000)\n",
        "filtered_test_df = filter_us_and_queries(test_df, limit=25000)\n",
        "\n",
        "print(f\"Train shape: {filtered_train_df.shape}\")\n",
        "print(f\"Test shape:  {filtered_test_df.shape}\")\n",
        "print(filtered_train_df.head(3))"
      ],
      "metadata": {
        "colab": {
          "base_uri": "https://localhost:8080/"
        },
        "id": "aKR96JYntc-8",
        "outputId": "7017ceb7-4051-467f-d8a9-283400ef6157"
      },
      "execution_count": 25,
      "outputs": [
        {
          "output_type": "stream",
          "name": "stderr",
          "text": [
            "<ipython-input-25-64b25407ce64>:8: DeprecationWarning: `pl.count()` is deprecated. Please use `pl.len()` instead.\n",
            "  .agg(pl.count().alias(\"product_count\"))\n"
          ]
        },
        {
          "output_type": "stream",
          "name": "stdout",
          "text": [
            "Train shape: (75000, 9)\n",
            "Test shape:  (25000, 9)\n",
            "shape: (3, 9)\n",
            "┌───────────┬───────────┬───────────┬───────────┬───┬───────────┬───────────┬───────────┬──────────┐\n",
            "│ query     ┆ product_l ┆ esci_labe ┆ product_t ┆ … ┆ product_b ┆ product_b ┆ product_c ┆ product_ │\n",
            "│ ---       ┆ ocale     ┆ l         ┆ itle      ┆   ┆ ullet_poi ┆ rand      ┆ olor      ┆ text     │\n",
            "│ str       ┆ ---       ┆ ---       ┆ ---       ┆   ┆ nt        ┆ ---       ┆ ---       ┆ ---      │\n",
            "│           ┆ str       ┆ str       ┆ str       ┆   ┆ ---       ┆ str       ┆ str       ┆ str      │\n",
            "│           ┆           ┆           ┆           ┆   ┆ str       ┆           ┆           ┆          │\n",
            "╞═══════════╪═══════════╪═══════════╪═══════════╪═══╪═══════════╪═══════════╪═══════════╪══════════╡\n",
            "│ revent 80 ┆ us        ┆ Irrelevan ┆ Panasonic ┆ … ┆ WhisperCe ┆ Panasonic ┆ White     ┆ Panasoni │\n",
            "│ cfm       ┆           ┆ t         ┆ FV-20VQ3  ┆   ┆ iling     ┆           ┆           ┆ c        │\n",
            "│           ┆           ┆           ┆ WhisperCe ┆   ┆ fans      ┆           ┆           ┆ FV-20VQ3 │\n",
            "│           ┆           ┆           ┆ il…       ┆   ┆ feature a ┆           ┆           ┆ WhisperC │\n",
            "│           ┆           ┆           ┆           ┆   ┆ …         ┆           ┆           ┆ eil…     │\n",
            "│ bathroom  ┆ us        ┆ Exact     ┆ Panasonic ┆ … ┆ WhisperCe ┆ Panasonic ┆ White     ┆ Panasoni │\n",
            "│ fan       ┆           ┆           ┆ FV-20VQ3  ┆   ┆ iling     ┆           ┆           ┆ c        │\n",
            "│ without   ┆           ┆           ┆ WhisperCe ┆   ┆ fans      ┆           ┆           ┆ FV-20VQ3 │\n",
            "│ light     ┆           ┆           ┆ il…       ┆   ┆ feature a ┆           ┆           ┆ WhisperC │\n",
            "│           ┆           ┆           ┆           ┆   ┆ …         ┆           ┆           ┆ eil…     │\n",
            "│ revent 80 ┆ us        ┆ Exact     ┆ Homewerks ┆ … ┆ OUTSTANDI ┆ Homewerks ┆ 80 CFM    ┆ Homewerk │\n",
            "│ cfm       ┆           ┆           ┆ 7141-80   ┆   ┆ NG PERFOR ┆           ┆           ┆ s        │\n",
            "│           ┆           ┆           ┆ Bathroom  ┆   ┆ MANCE:    ┆           ┆           ┆ 7141-80  │\n",
            "│           ┆           ┆           ┆ Fan…      ┆   ┆ This …    ┆           ┆           ┆ Bathroom │\n",
            "│           ┆           ┆           ┆           ┆   ┆           ┆           ┆           ┆ Fan…     │\n",
            "└───────────┴───────────┴───────────┴───────────┴───┴───────────┴───────────┴───────────┴──────────┘\n"
          ]
        }
      ]
    },
    {
      "cell_type": "code",
      "source": [
        "complimentary_numbers = train_us.filter(pl.col(\"esci_label\") == \"Complement\")\n",
        "print(complimentary_numbers.head(5))"
      ],
      "metadata": {
        "colab": {
          "base_uri": "https://localhost:8080/"
        },
        "id": "Cj_UicRTzc0G",
        "outputId": "0bd33337-9d88-406c-fb04-4ac4e00dccae"
      },
      "execution_count": 33,
      "outputs": [
        {
          "output_type": "stream",
          "name": "stdout",
          "text": [
            "shape: (5, 9)\n",
            "┌───────────┬───────────┬───────────┬───────────┬───┬───────────┬───────────┬───────────┬──────────┐\n",
            "│ query     ┆ product_l ┆ esci_labe ┆ product_t ┆ … ┆ product_b ┆ product_b ┆ product_c ┆ product_ │\n",
            "│ ---       ┆ ocale     ┆ l         ┆ itle      ┆   ┆ ullet_poi ┆ rand      ┆ olor      ┆ text     │\n",
            "│ str       ┆ ---       ┆ ---       ┆ ---       ┆   ┆ nt        ┆ ---       ┆ ---       ┆ ---      │\n",
            "│           ┆ str       ┆ str       ┆ str       ┆   ┆ ---       ┆ str       ┆ str       ┆ str      │\n",
            "│           ┆           ┆           ┆           ┆   ┆ str       ┆           ┆           ┆          │\n",
            "╞═══════════╪═══════════╪═══════════╪═══════════╪═══╪═══════════╪═══════════╪═══════════╪══════════╡\n",
            "│ heat      ┆ us        ┆ Complemen ┆ Panasonic ┆ … ┆ Retrofit  ┆ Panasonic ┆ White     ┆ Panasoni │\n",
            "│ recovery  ┆           ┆ t         ┆ FV-0811VF ┆   ┆ Solution: ┆           ┆           ┆ c FV-081 │\n",
            "│ ventilato ┆           ┆           ┆ 5 Whisper ┆   ┆ Ideal for ┆           ┆           ┆ 1VF5 Whi │\n",
            "│ r         ┆           ┆           ┆ Fi…       ┆   ┆ r…        ┆           ┆           ┆ sperFi…  │\n",
            "│ !awnmower ┆ us        ┆ Complemen ┆ Dr.Roc    ┆ … ┆ Tire      ┆ Dr.Roc    ┆ null      ┆ Dr.Roc   │\n",
            "│ tires     ┆           ┆ t         ┆ Tire      ┆   ┆ Spoons    ┆           ┆           ┆ Tire     │\n",
            "│ without   ┆           ┆           ┆ Spoon     ┆   ┆ for motor ┆           ┆           ┆ Spoon    │\n",
            "│ rims      ┆           ┆           ┆ Lever     ┆   ┆ cycle     ┆           ┆           ┆ Lever    │\n",
            "│           ┆           ┆           ┆ Dirt B…   ┆   ┆ tir…      ┆           ┆           ┆ Dirt B…  │\n",
            "│ riding    ┆ us        ┆ Complemen ┆ 15x6.00-6 ┆ … ┆ Tire: 2   ┆ MARASTAR  ┆ null      ┆ 15x6.00- │\n",
            "│ mowers    ┆           ┆ t         ┆ \" Front   ┆   ┆ pack -    ┆           ┆           ┆ 6\" Front │\n",
            "│ clearance ┆           ┆           ┆ Tire      ┆   ┆ 15x6.     ┆           ┆           ┆ Tire Ass │\n",
            "│           ┆           ┆           ┆ Assembly… ┆   ┆ 00-6      ┆           ┆           ┆ embly…   │\n",
            "│           ┆           ┆           ┆           ┆   ┆ Tube…     ┆           ┆           ┆          │\n",
            "│ plants    ┆ us        ┆ Complemen ┆ FOTMISHU  ┆ … ┆ ►Material ┆ FOTMISHU  ┆ green     ┆ FOTMISHU │\n",
            "│ shade     ┆           ┆ t         ┆ 6Pcs Gree ┆   ┆  -- High- ┆           ┆           ┆ 6Pcs Gre │\n",
            "│ cover     ┆           ┆           ┆ nhouse    ┆   ┆ quality p ┆           ┆           ┆ enhouse  │\n",
            "│           ┆           ┆           ┆ Hoops…    ┆   ┆ las…      ┆           ┆           ┆ Hoops…   │\n",
            "│ blink xt2 ┆ us        ┆ Complemen ┆ (10 Pack) ┆ … ┆ NO HOLES  ┆ HUXOR     ┆ null      ┆ (10      │\n",
            "│ mount     ┆           ┆ t         ┆ Vinyl     ┆   ┆ OR TOOLS  ┆           ┆           ┆ Pack)    │\n",
            "│           ┆           ┆           ┆ Siding    ┆   ┆ REQUIRED. ┆           ┆           ┆ Vinyl    │\n",
            "│           ┆           ┆           ┆ Clips H…  ┆   ┆ Ve…       ┆           ┆           ┆ Siding   │\n",
            "│           ┆           ┆           ┆           ┆   ┆           ┆           ┆           ┆ Clips H… │\n",
            "└───────────┴───────────┴───────────┴───────────┴───┴───────────┴───────────┴───────────┴──────────┘\n"
          ]
        }
      ]
    },
    {
      "cell_type": "code",
      "source": [
        "def create_input_polars(df: pl.DataFrame, product_cols: list[str]) -> pl.DataFrame:\n",
        "    for col in  product_cols:\n",
        "        df = df.with_columns(pl.col(col).fill_null(\"\").alias(col))\n",
        "\n",
        "    def clean_text(s: str) -> str:\n",
        "        return (\n",
        "            str(s)\n",
        "            .replace('\"', \"'\")\n",
        "            .replace(\"\\n\", \" \")\n",
        "            .replace(\"\\r\", \" \")\n",
        "            .replace(\"\\t\", \" \")\n",
        "            .strip()\n",
        "        )\n",
        "\n",
        "    def build_input_string(row : dict) -> str:\n",
        "        parts = [f\"{col} : {clean_text(row[col])}\" for col in product_cols]\n",
        "        return \"[CLS] \" + \" \".join(parts) + \" [SEP]\"\n",
        "\n",
        "    df = df.with_columns(\n",
        "        pl.struct(product_cols).map_elements(build_input_string).alias(\"product_input\")\n",
        "    )\n",
        "\n",
        "    return df\n",
        "\n",
        "product_cols = [\"product_title\", \"product_brand\", \"product_bullet_point\", \"product_description\", \"product_color\"]\n",
        "\n",
        "filtered_train_df = create_input_polars(filtered_train_df, product_cols)\n",
        "filtered_test_df = create_input_polars(filtered_test_df, product_cols)\n",
        "\n",
        "print(filtered_train_df.select(\"product_input\").head(1))"
      ],
      "metadata": {
        "colab": {
          "base_uri": "https://localhost:8080/"
        },
        "id": "hJzEgVa3uc2a",
        "outputId": "fd3e4297-2458-472d-cba2-f85a5b6593a0"
      },
      "execution_count": 34,
      "outputs": [
        {
          "output_type": "stream",
          "name": "stderr",
          "text": [
            "<ipython-input-34-3a02296a5518>:19: MapWithoutReturnDtypeWarning: Calling `map_elements` without specifying `return_dtype` can lead to unpredictable results. Specify `return_dtype` to silence this warning.\n",
            "  df = df.with_columns(\n",
            "<ipython-input-34-3a02296a5518>:19: MapWithoutReturnDtypeWarning: Calling `map_elements` without specifying `return_dtype` can lead to unpredictable results. Specify `return_dtype` to silence this warning.\n",
            "  df = df.with_columns(\n"
          ]
        },
        {
          "output_type": "stream",
          "name": "stdout",
          "text": [
            "shape: (1, 1)\n",
            "┌─────────────────────────────────┐\n",
            "│ product_input                   │\n",
            "│ ---                             │\n",
            "│ str                             │\n",
            "╞═════════════════════════════════╡\n",
            "│ [CLS] product_title : Panasoni… │\n",
            "└─────────────────────────────────┘\n"
          ]
        }
      ]
    },
    {
      "cell_type": "code",
      "source": [
        "print(filtered_train_df.head())"
      ],
      "metadata": {
        "colab": {
          "base_uri": "https://localhost:8080/"
        },
        "id": "pbhWWAKrwTXi",
        "outputId": "a4b2ebbd-d1d1-4638-bd2a-ebfe980367f9"
      },
      "execution_count": 27,
      "outputs": [
        {
          "output_type": "stream",
          "name": "stdout",
          "text": [
            "shape: (5, 10)\n",
            "┌───────────┬───────────┬───────────┬───────────┬───┬───────────┬───────────┬───────────┬──────────┐\n",
            "│ query     ┆ product_l ┆ esci_labe ┆ product_t ┆ … ┆ product_b ┆ product_c ┆ product_t ┆ product_ │\n",
            "│ ---       ┆ ocale     ┆ l         ┆ itle      ┆   ┆ rand      ┆ olor      ┆ ext       ┆ input    │\n",
            "│ str       ┆ ---       ┆ ---       ┆ ---       ┆   ┆ ---       ┆ ---       ┆ ---       ┆ ---      │\n",
            "│           ┆ str       ┆ str       ┆ str       ┆   ┆ str       ┆ str       ┆ str       ┆ str      │\n",
            "╞═══════════╪═══════════╪═══════════╪═══════════╪═══╪═══════════╪═══════════╪═══════════╪══════════╡\n",
            "│ revent 80 ┆ us        ┆ Irrelevan ┆ Panasonic ┆ … ┆ Panasonic ┆ White     ┆ Panasonic ┆ [CLS]    │\n",
            "│ cfm       ┆           ┆ t         ┆ FV-20VQ3  ┆   ┆           ┆           ┆ FV-20VQ3  ┆ product_ │\n",
            "│           ┆           ┆           ┆ WhisperCe ┆   ┆           ┆           ┆ WhisperCe ┆ title :  │\n",
            "│           ┆           ┆           ┆ il…       ┆   ┆           ┆           ┆ il…       ┆ Panasoni │\n",
            "│           ┆           ┆           ┆           ┆   ┆           ┆           ┆           ┆ …        │\n",
            "│ bathroom  ┆ us        ┆ Exact     ┆ Panasonic ┆ … ┆ Panasonic ┆ White     ┆ Panasonic ┆ [CLS]    │\n",
            "│ fan       ┆           ┆           ┆ FV-20VQ3  ┆   ┆           ┆           ┆ FV-20VQ3  ┆ product_ │\n",
            "│ without   ┆           ┆           ┆ WhisperCe ┆   ┆           ┆           ┆ WhisperCe ┆ title :  │\n",
            "│ light     ┆           ┆           ┆ il…       ┆   ┆           ┆           ┆ il…       ┆ Panasoni │\n",
            "│           ┆           ┆           ┆           ┆   ┆           ┆           ┆           ┆ …        │\n",
            "│ revent 80 ┆ us        ┆ Exact     ┆ Homewerks ┆ … ┆ Homewerks ┆ 80 CFM    ┆ Homewerks ┆ [CLS]    │\n",
            "│ cfm       ┆           ┆           ┆ 7141-80   ┆   ┆           ┆           ┆ 7141-80   ┆ product_ │\n",
            "│           ┆           ┆           ┆ Bathroom  ┆   ┆           ┆           ┆ Bathroom  ┆ title :  │\n",
            "│           ┆           ┆           ┆ Fan…      ┆   ┆           ┆           ┆ Fan…      ┆ Homewerk │\n",
            "│           ┆           ┆           ┆           ┆   ┆           ┆           ┆           ┆ …        │\n",
            "│ revent 80 ┆ us        ┆ Exact     ┆ Homewerks ┆ … ┆ Homewerks ┆ White     ┆ Homewerks ┆ [CLS]    │\n",
            "│ cfm       ┆           ┆           ┆ 7140-80   ┆   ┆           ┆           ┆ 7140-80   ┆ product_ │\n",
            "│           ┆           ┆           ┆ Bathroom  ┆   ┆           ┆           ┆ Bathroom  ┆ title :  │\n",
            "│           ┆           ┆           ┆ Fan…      ┆   ┆           ┆           ┆ Fan…      ┆ Homewerk │\n",
            "│           ┆           ┆           ┆           ┆   ┆           ┆           ┆           ┆ …        │\n",
            "│ revent 80 ┆ us        ┆ Exact     ┆ Delta Ele ┆ … ┆ DELTA ELE ┆ White     ┆ Delta Ele ┆ [CLS]    │\n",
            "│ cfm       ┆           ┆           ┆ ctronics  ┆   ┆ CTRONICS  ┆           ┆ ctronics  ┆ product_ │\n",
            "│           ┆           ┆           ┆ RAD80L    ┆   ┆ (AMERICAS ┆           ┆ RAD80L    ┆ title :  │\n",
            "│           ┆           ┆           ┆ Breez…    ┆   ┆ ) L…      ┆           ┆ Breez…    ┆ Delta    │\n",
            "│           ┆           ┆           ┆           ┆   ┆           ┆           ┆           ┆ El…      │\n",
            "└───────────┴───────────┴───────────┴───────────┴───┴───────────┴───────────┴───────────┴──────────┘\n"
          ]
        }
      ]
    },
    {
      "cell_type": "code",
      "source": [],
      "metadata": {
        "id": "IdWFJfOXwd0l"
      },
      "execution_count": null,
      "outputs": []
    },
    {
      "cell_type": "code",
      "source": [
        "def apply_label_mapping(df: pl.DataFrame) -> pl.DataFrame:\n",
        "    return df.with_columns(\n",
        "        pl.when(pl.col(\"esci_label\") == \"Irrelevant\").then(0.0)\n",
        "        .when(pl.col(\"esci_label\") == \"Complement\").then(0.01)\n",
        "        .when(pl.col(\"esci_label\") == \"Substitute\").then(0.1)\n",
        "        .when(pl.col(\"esci_label\") == \"Exact\").then(1.0)\n",
        "        .otherwise(None)\n",
        "        .alias(\"esci_label\")\n",
        "    )\n",
        "\n",
        "filtered_train_df = apply_label_mapping(filtered_train_df)\n",
        "filtered_test_df = apply_label_mapping(filtered_test_df)"
      ],
      "metadata": {
        "id": "gn49xnIfw1Xc"
      },
      "execution_count": 35,
      "outputs": []
    },
    {
      "cell_type": "code",
      "source": [
        "print(filtered_train_df.head())"
      ],
      "metadata": {
        "colab": {
          "base_uri": "https://localhost:8080/"
        },
        "id": "JKh46tESxCCO",
        "outputId": "64a12dd7-1d7a-4c46-f67d-88aca5430ba4"
      },
      "execution_count": null,
      "outputs": [
        {
          "output_type": "stream",
          "name": "stdout",
          "text": [
            "shape: (5, 11)\n",
            "┌───────────┬───────────┬───────────┬───────────┬───┬───────────┬───────────┬───────────┬──────────┐\n",
            "│ query     ┆ product_l ┆ esci_labe ┆ product_t ┆ … ┆ product_c ┆ product_t ┆ product_i ┆ label_sc │\n",
            "│ ---       ┆ ocale     ┆ l         ┆ itle      ┆   ┆ olor      ┆ ext       ┆ nput      ┆ ore      │\n",
            "│ str       ┆ ---       ┆ ---       ┆ ---       ┆   ┆ ---       ┆ ---       ┆ ---       ┆ ---      │\n",
            "│           ┆ str       ┆ f64       ┆ str       ┆   ┆ str       ┆ str       ┆ str       ┆ f64      │\n",
            "╞═══════════╪═══════════╪═══════════╪═══════════╪═══╪═══════════╪═══════════╪═══════════╪══════════╡\n",
            "│ revent 80 ┆ us        ┆ 0.0       ┆ Panasonic ┆ … ┆ White     ┆ Panasonic ┆ [CLS] pro ┆ 0.0      │\n",
            "│ cfm       ┆           ┆           ┆ FV-20VQ3  ┆   ┆           ┆ FV-20VQ3  ┆ duct_titl ┆          │\n",
            "│           ┆           ┆           ┆ WhisperCe ┆   ┆           ┆ WhisperCe ┆ e :       ┆          │\n",
            "│           ┆           ┆           ┆ il…       ┆   ┆           ┆ il…       ┆ Panasoni… ┆          │\n",
            "│ bathroom  ┆ us        ┆ 1.0       ┆ Panasonic ┆ … ┆ White     ┆ Panasonic ┆ [CLS] pro ┆ 1.0      │\n",
            "│ fan       ┆           ┆           ┆ FV-20VQ3  ┆   ┆           ┆ FV-20VQ3  ┆ duct_titl ┆          │\n",
            "│ without   ┆           ┆           ┆ WhisperCe ┆   ┆           ┆ WhisperCe ┆ e :       ┆          │\n",
            "│ light     ┆           ┆           ┆ il…       ┆   ┆           ┆ il…       ┆ Panasoni… ┆          │\n",
            "│ revent 80 ┆ us        ┆ 1.0       ┆ Homewerks ┆ … ┆ 80 CFM    ┆ Homewerks ┆ [CLS] pro ┆ 1.0      │\n",
            "│ cfm       ┆           ┆           ┆ 7141-80   ┆   ┆           ┆ 7141-80   ┆ duct_titl ┆          │\n",
            "│           ┆           ┆           ┆ Bathroom  ┆   ┆           ┆ Bathroom  ┆ e :       ┆          │\n",
            "│           ┆           ┆           ┆ Fan…      ┆   ┆           ┆ Fan…      ┆ Homewerk… ┆          │\n",
            "│ revent 80 ┆ us        ┆ 1.0       ┆ Homewerks ┆ … ┆ White     ┆ Homewerks ┆ [CLS] pro ┆ 1.0      │\n",
            "│ cfm       ┆           ┆           ┆ 7140-80   ┆   ┆           ┆ 7140-80   ┆ duct_titl ┆          │\n",
            "│           ┆           ┆           ┆ Bathroom  ┆   ┆           ┆ Bathroom  ┆ e :       ┆          │\n",
            "│           ┆           ┆           ┆ Fan…      ┆   ┆           ┆ Fan…      ┆ Homewerk… ┆          │\n",
            "│ revent 80 ┆ us        ┆ 1.0       ┆ Delta Ele ┆ … ┆ White     ┆ Delta Ele ┆ [CLS] pro ┆ 1.0      │\n",
            "│ cfm       ┆           ┆           ┆ ctronics  ┆   ┆           ┆ ctronics  ┆ duct_titl ┆          │\n",
            "│           ┆           ┆           ┆ RAD80L    ┆   ┆           ┆ RAD80L    ┆ e : Delta ┆          │\n",
            "│           ┆           ┆           ┆ Breez…    ┆   ┆           ┆ Breez…    ┆ El…       ┆          │\n",
            "└───────────┴───────────┴───────────┴───────────┴───┴───────────┴───────────┴───────────┴──────────┘\n"
          ]
        }
      ]
    },
    {
      "cell_type": "code",
      "source": [
        "# Select desired columns\n",
        "train_final = filtered_train_df.select([\"query\", \"product_input\", \"esci_label\"])\n",
        "test_final = filtered_test_df.select([\"query\", \"product_input\", \"esci_label\"])\n",
        "\n",
        "# Save to CSV\n",
        "train_final.write_csv(\"filtered_train.csv\")\n",
        "test_final.write_csv(\"filtered_test.csv\")"
      ],
      "metadata": {
        "id": "nRyHJXlpxh6W"
      },
      "execution_count": 36,
      "outputs": []
    },
    {
      "cell_type": "code",
      "source": [
        "from google.colab import files\n",
        "\n",
        "files.download(\"filtered_train.csv\")\n",
        "files.download(\"filtered_test.csv\")"
      ],
      "metadata": {
        "colab": {
          "base_uri": "https://localhost:8080/",
          "height": 17
        },
        "id": "BZW9mjMGxmGX",
        "outputId": "524bf330-7904-407c-fadd-22e513bb0b68"
      },
      "execution_count": 37,
      "outputs": [
        {
          "output_type": "display_data",
          "data": {
            "text/plain": [
              "<IPython.core.display.Javascript object>"
            ],
            "application/javascript": [
              "\n",
              "    async function download(id, filename, size) {\n",
              "      if (!google.colab.kernel.accessAllowed) {\n",
              "        return;\n",
              "      }\n",
              "      const div = document.createElement('div');\n",
              "      const label = document.createElement('label');\n",
              "      label.textContent = `Downloading \"${filename}\": `;\n",
              "      div.appendChild(label);\n",
              "      const progress = document.createElement('progress');\n",
              "      progress.max = size;\n",
              "      div.appendChild(progress);\n",
              "      document.body.appendChild(div);\n",
              "\n",
              "      const buffers = [];\n",
              "      let downloaded = 0;\n",
              "\n",
              "      const channel = await google.colab.kernel.comms.open(id);\n",
              "      // Send a message to notify the kernel that we're ready.\n",
              "      channel.send({})\n",
              "\n",
              "      for await (const message of channel.messages) {\n",
              "        // Send a message to notify the kernel that we're ready.\n",
              "        channel.send({})\n",
              "        if (message.buffers) {\n",
              "          for (const buffer of message.buffers) {\n",
              "            buffers.push(buffer);\n",
              "            downloaded += buffer.byteLength;\n",
              "            progress.value = downloaded;\n",
              "          }\n",
              "        }\n",
              "      }\n",
              "      const blob = new Blob(buffers, {type: 'application/binary'});\n",
              "      const a = document.createElement('a');\n",
              "      a.href = window.URL.createObjectURL(blob);\n",
              "      a.download = filename;\n",
              "      div.appendChild(a);\n",
              "      a.click();\n",
              "      div.remove();\n",
              "    }\n",
              "  "
            ]
          },
          "metadata": {}
        },
        {
          "output_type": "display_data",
          "data": {
            "text/plain": [
              "<IPython.core.display.Javascript object>"
            ],
            "application/javascript": [
              "download(\"download_a8ca7564-b71b-42b9-8c9d-1bd7f6a29630\", \"filtered_train.csv\", 111758567)"
            ]
          },
          "metadata": {}
        },
        {
          "output_type": "display_data",
          "data": {
            "text/plain": [
              "<IPython.core.display.Javascript object>"
            ],
            "application/javascript": [
              "\n",
              "    async function download(id, filename, size) {\n",
              "      if (!google.colab.kernel.accessAllowed) {\n",
              "        return;\n",
              "      }\n",
              "      const div = document.createElement('div');\n",
              "      const label = document.createElement('label');\n",
              "      label.textContent = `Downloading \"${filename}\": `;\n",
              "      div.appendChild(label);\n",
              "      const progress = document.createElement('progress');\n",
              "      progress.max = size;\n",
              "      div.appendChild(progress);\n",
              "      document.body.appendChild(div);\n",
              "\n",
              "      const buffers = [];\n",
              "      let downloaded = 0;\n",
              "\n",
              "      const channel = await google.colab.kernel.comms.open(id);\n",
              "      // Send a message to notify the kernel that we're ready.\n",
              "      channel.send({})\n",
              "\n",
              "      for await (const message of channel.messages) {\n",
              "        // Send a message to notify the kernel that we're ready.\n",
              "        channel.send({})\n",
              "        if (message.buffers) {\n",
              "          for (const buffer of message.buffers) {\n",
              "            buffers.push(buffer);\n",
              "            downloaded += buffer.byteLength;\n",
              "            progress.value = downloaded;\n",
              "          }\n",
              "        }\n",
              "      }\n",
              "      const blob = new Blob(buffers, {type: 'application/binary'});\n",
              "      const a = document.createElement('a');\n",
              "      a.href = window.URL.createObjectURL(blob);\n",
              "      a.download = filename;\n",
              "      div.appendChild(a);\n",
              "      a.click();\n",
              "      div.remove();\n",
              "    }\n",
              "  "
            ]
          },
          "metadata": {}
        },
        {
          "output_type": "display_data",
          "data": {
            "text/plain": [
              "<IPython.core.display.Javascript object>"
            ],
            "application/javascript": [
              "download(\"download_cc4eb005-5e47-470d-b93d-e0ccb69e477c\", \"filtered_test.csv\", 37888337)"
            ]
          },
          "metadata": {}
        }
      ]
    }
  ]
}