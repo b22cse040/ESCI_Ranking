{
  "nbformat": 4,
  "nbformat_minor": 0,
  "metadata": {
    "colab": {
      "provenance": [],
      "gpuType": "T4"
    },
    "kernelspec": {
      "name": "python3",
      "display_name": "Python 3"
    },
    "language_info": {
      "name": "python"
    },
    "accelerator": "GPU"
  },
  "cells": [
    {
      "cell_type": "code",
      "source": [
        "!pip install -U datasets"
      ],
      "metadata": {
        "colab": {
          "base_uri": "https://localhost:8080/"
        },
        "id": "98pOc8hncqr3",
        "outputId": "aaf9ef4e-1922-4ecc-9012-875a6d0b9107"
      },
      "execution_count": null,
      "outputs": [
        {
          "output_type": "stream",
          "name": "stdout",
          "text": [
            "Requirement already satisfied: datasets in /usr/local/lib/python3.11/dist-packages (3.6.0)\n",
            "Requirement already satisfied: filelock in /usr/local/lib/python3.11/dist-packages (from datasets) (3.18.0)\n",
            "Requirement already satisfied: numpy>=1.17 in /usr/local/lib/python3.11/dist-packages (from datasets) (2.0.2)\n",
            "Requirement already satisfied: pyarrow>=15.0.0 in /usr/local/lib/python3.11/dist-packages (from datasets) (18.1.0)\n",
            "Requirement already satisfied: dill<0.3.9,>=0.3.0 in /usr/local/lib/python3.11/dist-packages (from datasets) (0.3.7)\n",
            "Requirement already satisfied: pandas in /usr/local/lib/python3.11/dist-packages (from datasets) (2.2.2)\n",
            "Requirement already satisfied: requests>=2.32.2 in /usr/local/lib/python3.11/dist-packages (from datasets) (2.32.3)\n",
            "Requirement already satisfied: tqdm>=4.66.3 in /usr/local/lib/python3.11/dist-packages (from datasets) (4.67.1)\n",
            "Requirement already satisfied: xxhash in /usr/local/lib/python3.11/dist-packages (from datasets) (3.5.0)\n",
            "Requirement already satisfied: multiprocess<0.70.17 in /usr/local/lib/python3.11/dist-packages (from datasets) (0.70.15)\n",
            "Requirement already satisfied: fsspec<=2025.3.0,>=2023.1.0 in /usr/local/lib/python3.11/dist-packages (from fsspec[http]<=2025.3.0,>=2023.1.0->datasets) (2025.3.0)\n",
            "Requirement already satisfied: huggingface-hub>=0.24.0 in /usr/local/lib/python3.11/dist-packages (from datasets) (0.31.2)\n",
            "Requirement already satisfied: packaging in /usr/local/lib/python3.11/dist-packages (from datasets) (24.2)\n",
            "Requirement already satisfied: pyyaml>=5.1 in /usr/local/lib/python3.11/dist-packages (from datasets) (6.0.2)\n",
            "Requirement already satisfied: aiohttp!=4.0.0a0,!=4.0.0a1 in /usr/local/lib/python3.11/dist-packages (from fsspec[http]<=2025.3.0,>=2023.1.0->datasets) (3.11.15)\n",
            "Requirement already satisfied: typing-extensions>=3.7.4.3 in /usr/local/lib/python3.11/dist-packages (from huggingface-hub>=0.24.0->datasets) (4.13.2)\n",
            "Requirement already satisfied: charset-normalizer<4,>=2 in /usr/local/lib/python3.11/dist-packages (from requests>=2.32.2->datasets) (3.4.2)\n",
            "Requirement already satisfied: idna<4,>=2.5 in /usr/local/lib/python3.11/dist-packages (from requests>=2.32.2->datasets) (3.10)\n",
            "Requirement already satisfied: urllib3<3,>=1.21.1 in /usr/local/lib/python3.11/dist-packages (from requests>=2.32.2->datasets) (2.4.0)\n",
            "Requirement already satisfied: certifi>=2017.4.17 in /usr/local/lib/python3.11/dist-packages (from requests>=2.32.2->datasets) (2025.4.26)\n",
            "Requirement already satisfied: python-dateutil>=2.8.2 in /usr/local/lib/python3.11/dist-packages (from pandas->datasets) (2.9.0.post0)\n",
            "Requirement already satisfied: pytz>=2020.1 in /usr/local/lib/python3.11/dist-packages (from pandas->datasets) (2025.2)\n",
            "Requirement already satisfied: tzdata>=2022.7 in /usr/local/lib/python3.11/dist-packages (from pandas->datasets) (2025.2)\n",
            "Requirement already satisfied: aiohappyeyeballs>=2.3.0 in /usr/local/lib/python3.11/dist-packages (from aiohttp!=4.0.0a0,!=4.0.0a1->fsspec[http]<=2025.3.0,>=2023.1.0->datasets) (2.6.1)\n",
            "Requirement already satisfied: aiosignal>=1.1.2 in /usr/local/lib/python3.11/dist-packages (from aiohttp!=4.0.0a0,!=4.0.0a1->fsspec[http]<=2025.3.0,>=2023.1.0->datasets) (1.3.2)\n",
            "Requirement already satisfied: attrs>=17.3.0 in /usr/local/lib/python3.11/dist-packages (from aiohttp!=4.0.0a0,!=4.0.0a1->fsspec[http]<=2025.3.0,>=2023.1.0->datasets) (25.3.0)\n",
            "Requirement already satisfied: frozenlist>=1.1.1 in /usr/local/lib/python3.11/dist-packages (from aiohttp!=4.0.0a0,!=4.0.0a1->fsspec[http]<=2025.3.0,>=2023.1.0->datasets) (1.6.0)\n",
            "Requirement already satisfied: multidict<7.0,>=4.5 in /usr/local/lib/python3.11/dist-packages (from aiohttp!=4.0.0a0,!=4.0.0a1->fsspec[http]<=2025.3.0,>=2023.1.0->datasets) (6.4.3)\n",
            "Requirement already satisfied: propcache>=0.2.0 in /usr/local/lib/python3.11/dist-packages (from aiohttp!=4.0.0a0,!=4.0.0a1->fsspec[http]<=2025.3.0,>=2023.1.0->datasets) (0.3.1)\n",
            "Requirement already satisfied: yarl<2.0,>=1.17.0 in /usr/local/lib/python3.11/dist-packages (from aiohttp!=4.0.0a0,!=4.0.0a1->fsspec[http]<=2025.3.0,>=2023.1.0->datasets) (1.20.0)\n",
            "Requirement already satisfied: six>=1.5 in /usr/local/lib/python3.11/dist-packages (from python-dateutil>=2.8.2->pandas->datasets) (1.17.0)\n"
          ]
        }
      ]
    },
    {
      "cell_type": "code",
      "source": [
        "from datasets import load_dataset\n",
        "\n",
        "train_dataset = load_dataset(\"tasksource/esci\", split=\"train[:50000]\")\n",
        "train_dataset.shape"
      ],
      "metadata": {
        "colab": {
          "base_uri": "https://localhost:8080/"
        },
        "id": "CJW2Vk2Lcs0c",
        "outputId": "d33a6d0c-1bb1-4e48-8078-a3691c777094"
      },
      "execution_count": null,
      "outputs": [
        {
          "output_type": "stream",
          "name": "stderr",
          "text": [
            "/usr/local/lib/python3.11/dist-packages/huggingface_hub/utils/_auth.py:94: UserWarning: \n",
            "The secret `HF_TOKEN` does not exist in your Colab secrets.\n",
            "To authenticate with the Hugging Face Hub, create a token in your settings tab (https://huggingface.co/settings/tokens), set it as secret in your Google Colab and restart your session.\n",
            "You will be able to reuse this secret in all of your notebooks.\n",
            "Please note that authentication is recommended but still optional to access public models or datasets.\n",
            "  warnings.warn(\n"
          ]
        },
        {
          "output_type": "execute_result",
          "data": {
            "text/plain": [
              "(50000, 14)"
            ]
          },
          "metadata": {},
          "execution_count": 2
        }
      ]
    },
    {
      "cell_type": "code",
      "source": [
        "test_dataset = load_dataset(\"tasksource/esci\", split=\"test[:10000]\")\n",
        "test_dataset.shape"
      ],
      "metadata": {
        "colab": {
          "base_uri": "https://localhost:8080/"
        },
        "id": "576h_E2vctVG",
        "outputId": "e26d45ed-67dd-4153-efa5-fc692f9c420f"
      },
      "execution_count": null,
      "outputs": [
        {
          "output_type": "execute_result",
          "data": {
            "text/plain": [
              "(10000, 14)"
            ]
          },
          "metadata": {},
          "execution_count": 3
        }
      ]
    },
    {
      "cell_type": "code",
      "source": [
        "import pandas as pd\n",
        "\n",
        "train_df = pd.DataFrame(train_dataset)\n",
        "test_df = pd.DataFrame(test_dataset)"
      ],
      "metadata": {
        "id": "8UG_inehcvVr"
      },
      "execution_count": null,
      "outputs": []
    },
    {
      "cell_type": "code",
      "source": [
        "train_df.info()"
      ],
      "metadata": {
        "id": "BknKbfC4cx2U"
      },
      "execution_count": null,
      "outputs": []
    },
    {
      "cell_type": "code",
      "source": [
        "## Dropping cols from the dataset as they seem unnecessary for the task\n",
        "cols_to_be_dropped = [\n",
        "    \"example_id\", \"query_id\", \"product_id\",\n",
        "    \"small_version\", \"large_version\",\n",
        "]\n",
        "train_df = train_df.drop(columns=cols_to_be_dropped, axis = 1)\n",
        "test_df = test_df.drop(columns=cols_to_be_dropped, axis = 1)"
      ],
      "metadata": {
        "id": "mr8IrJ4PczaZ"
      },
      "execution_count": null,
      "outputs": []
    },
    {
      "cell_type": "code",
      "source": [
        "train_df.info()"
      ],
      "metadata": {
        "colab": {
          "base_uri": "https://localhost:8080/"
        },
        "id": "2gFnGLNEcz4b",
        "outputId": "1dfba44a-3fa3-4ffe-a140-ea14ae401b63"
      },
      "execution_count": null,
      "outputs": [
        {
          "output_type": "stream",
          "name": "stdout",
          "text": [
            "<class 'pandas.core.frame.DataFrame'>\n",
            "RangeIndex: 50000 entries, 0 to 49999\n",
            "Data columns (total 9 columns):\n",
            " #   Column                Non-Null Count  Dtype \n",
            "---  ------                --------------  ----- \n",
            " 0   query                 50000 non-null  object\n",
            " 1   product_locale        50000 non-null  object\n",
            " 2   esci_label            50000 non-null  object\n",
            " 3   product_title         50000 non-null  object\n",
            " 4   product_description   20771 non-null  object\n",
            " 5   product_bullet_point  47297 non-null  object\n",
            " 6   product_brand         48828 non-null  object\n",
            " 7   product_color         34670 non-null  object\n",
            " 8   product_text          50000 non-null  object\n",
            "dtypes: object(9)\n",
            "memory usage: 3.4+ MB\n"
          ]
        }
      ]
    },
    {
      "cell_type": "markdown",
      "source": [
        "In the problem, organizer gave the following relevance scores\n",
        "\n",
        "![image.png](data:image/png;base64,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)"
      ],
      "metadata": {
        "id": "1mkxY0aVc6Mc"
      }
    },
    {
      "cell_type": "code",
      "source": [
        "train_df[\"esci_label\"].value_counts()"
      ],
      "metadata": {
        "colab": {
          "base_uri": "https://localhost:8080/",
          "height": 241
        },
        "id": "_j7UQ2-rc2oh",
        "outputId": "d5a2b508-ed1f-4d86-ed96-f30f69698329"
      },
      "execution_count": null,
      "outputs": [
        {
          "output_type": "execute_result",
          "data": {
            "text/plain": [
              "esci_label\n",
              "Exact         24337\n",
              "Substitute    12474\n",
              "Irrelevant    12106\n",
              "Complement     1083\n",
              "Name: count, dtype: int64"
            ],
            "text/html": [
              "<div>\n",
              "<style scoped>\n",
              "    .dataframe tbody tr th:only-of-type {\n",
              "        vertical-align: middle;\n",
              "    }\n",
              "\n",
              "    .dataframe tbody tr th {\n",
              "        vertical-align: top;\n",
              "    }\n",
              "\n",
              "    .dataframe thead th {\n",
              "        text-align: right;\n",
              "    }\n",
              "</style>\n",
              "<table border=\"1\" class=\"dataframe\">\n",
              "  <thead>\n",
              "    <tr style=\"text-align: right;\">\n",
              "      <th></th>\n",
              "      <th>count</th>\n",
              "    </tr>\n",
              "    <tr>\n",
              "      <th>esci_label</th>\n",
              "      <th></th>\n",
              "    </tr>\n",
              "  </thead>\n",
              "  <tbody>\n",
              "    <tr>\n",
              "      <th>Exact</th>\n",
              "      <td>24337</td>\n",
              "    </tr>\n",
              "    <tr>\n",
              "      <th>Substitute</th>\n",
              "      <td>12474</td>\n",
              "    </tr>\n",
              "    <tr>\n",
              "      <th>Irrelevant</th>\n",
              "      <td>12106</td>\n",
              "    </tr>\n",
              "    <tr>\n",
              "      <th>Complement</th>\n",
              "      <td>1083</td>\n",
              "    </tr>\n",
              "  </tbody>\n",
              "</table>\n",
              "</div><br><label><b>dtype:</b> int64</label>"
            ]
          },
          "metadata": {},
          "execution_count": 9
        }
      ]
    },
    {
      "cell_type": "code",
      "source": [
        "mapping = {\n",
        "    \"Exact\" : 1.0,\n",
        "    \"Substitute\" : 0.1,\n",
        "    \"Irrelevant\" : 0.0,\n",
        "    \"Complement\" : 0.01\n",
        "}\n",
        "\n",
        "train_df[\"esci_label\"] = train_df[\"esci_label\"].map(mapping)\n",
        "test_df[\"esci_label\"] = test_df[\"esci_label\"].map(mapping)"
      ],
      "metadata": {
        "id": "bcJej-xfc_w0"
      },
      "execution_count": null,
      "outputs": []
    },
    {
      "cell_type": "code",
      "source": [
        "train_df.head()"
      ],
      "metadata": {
        "id": "nxB4nmkFdBHh"
      },
      "execution_count": null,
      "outputs": []
    },
    {
      "cell_type": "markdown",
      "source": [
        "Created a new column that we'll feed into the cross-encoder, note that this column will be fed into the cross encoder to fine-tune it.\n",
        "\n",
        "The data contains information of the form:\n",
        "\n",
        "`[CLS] product_info[prod1] [SEP] product_info[prod2] [SEP]` and so on"
      ],
      "metadata": {
        "id": "7pGM9lTXdDrc"
      }
    },
    {
      "cell_type": "code",
      "source": [
        "product_cols = [\n",
        "    \"product_title\",\n",
        "    \"product_description\",\n",
        "    \"product_bullet_point\",\n",
        "    \"product_brand\",\n",
        "    \"product_color\",\n",
        "    \"product_text\"\n",
        "]\n",
        "\n",
        "def create_input(df, product_cols):\n",
        "    df[product_cols] = df[product_cols].fillna(\"\")\n",
        "\n",
        "    def clean_text(text):\n",
        "        # cleaning text to prevent ParseErrors that will give you headache later\n",
        "        return (\n",
        "            str(text)\n",
        "            .replace('\"', \"'\")         # Replace double quotes to prevent ParseErrors\n",
        "            .replace(\"\\n\", ' ')\n",
        "            .replace(\"\\r\", ' ')\n",
        "            .strip()\n",
        "        )\n",
        "\n",
        "    def build_row(row):\n",
        "        parts = [f'{col}: {clean_text(row[col])}' for col in product_cols]\n",
        "        return \"[CLS] \" + \" \".join(parts) + \" [SEP]\"\n",
        "\n",
        "    df[\"product_input\"] = df.apply(build_row, axis=1)\n",
        "    return df\n",
        "\n",
        "train_df = create_input(train_df, product_cols)\n",
        "test_df = create_input(test_df, product_cols)"
      ],
      "metadata": {
        "id": "3pdXBfyNdCzI"
      },
      "execution_count": null,
      "outputs": []
    },
    {
      "cell_type": "code",
      "source": [
        "processed_train_df = train_df[[\"query\", \"product_input\", \"esci_label\"]]\n",
        "processed_test_df = test_df[[\"query\", \"product_input\", \"esci_label\"]]"
      ],
      "metadata": {
        "id": "8iG9cT2cdGzY"
      },
      "execution_count": null,
      "outputs": []
    },
    {
      "cell_type": "code",
      "source": [
        "# processed_train_df.to_csv(\"processed_train_updated.csv\", index=False)\n",
        "# processed_test_df.to_csv(\"processed_test_updated.csv\", index=False)"
      ],
      "metadata": {
        "id": "Ca8jHwV9dH_A"
      },
      "execution_count": null,
      "outputs": []
    },
    {
      "cell_type": "code",
      "source": [
        "import csv\n",
        "\n",
        "processed_train_df.to_csv(\"processed_train_updated.csv\", index=False, quoting=csv.QUOTE_ALL, escapechar='\\\\')\n",
        "processed_test_df.to_csv(\"processed_test_updated.csv\", index=False, quoting=csv.QUOTE_ALL, escapechar='\\\\')"
      ],
      "metadata": {
        "id": "71OEDOf19LNc"
      },
      "execution_count": null,
      "outputs": []
    },
    {
      "cell_type": "code",
      "source": [
        "from google.colab import files\n",
        "files.download('processed_train_updated.csv')\n",
        "files.download('processed_test_updated.csv')"
      ],
      "metadata": {
        "colab": {
          "base_uri": "https://localhost:8080/",
          "height": 34
        },
        "id": "GXP4VLTeNKF3",
        "outputId": "356d1247-8f5e-43d7-cbfd-8347a5b3e504"
      },
      "execution_count": null,
      "outputs": [
        {
          "output_type": "display_data",
          "data": {
            "text/plain": [
              "<IPython.core.display.Javascript object>"
            ],
            "application/javascript": [
              "\n",
              "    async function download(id, filename, size) {\n",
              "      if (!google.colab.kernel.accessAllowed) {\n",
              "        return;\n",
              "      }\n",
              "      const div = document.createElement('div');\n",
              "      const label = document.createElement('label');\n",
              "      label.textContent = `Downloading \"${filename}\": `;\n",
              "      div.appendChild(label);\n",
              "      const progress = document.createElement('progress');\n",
              "      progress.max = size;\n",
              "      div.appendChild(progress);\n",
              "      document.body.appendChild(div);\n",
              "\n",
              "      const buffers = [];\n",
              "      let downloaded = 0;\n",
              "\n",
              "      const channel = await google.colab.kernel.comms.open(id);\n",
              "      // Send a message to notify the kernel that we're ready.\n",
              "      channel.send({})\n",
              "\n",
              "      for await (const message of channel.messages) {\n",
              "        // Send a message to notify the kernel that we're ready.\n",
              "        channel.send({})\n",
              "        if (message.buffers) {\n",
              "          for (const buffer of message.buffers) {\n",
              "            buffers.push(buffer);\n",
              "            downloaded += buffer.byteLength;\n",
              "            progress.value = downloaded;\n",
              "          }\n",
              "        }\n",
              "      }\n",
              "      const blob = new Blob(buffers, {type: 'application/binary'});\n",
              "      const a = document.createElement('a');\n",
              "      a.href = window.URL.createObjectURL(blob);\n",
              "      a.download = filename;\n",
              "      div.appendChild(a);\n",
              "      a.click();\n",
              "      div.remove();\n",
              "    }\n",
              "  "
            ]
          },
          "metadata": {}
        },
        {
          "output_type": "display_data",
          "data": {
            "text/plain": [
              "<IPython.core.display.Javascript object>"
            ],
            "application/javascript": [
              "download(\"download_e0152b63-e1d7-4b69-81ed-9397c83f76ef\", \"processed_train_updated.csv\", 138248332)"
            ]
          },
          "metadata": {}
        },
        {
          "output_type": "display_data",
          "data": {
            "text/plain": [
              "<IPython.core.display.Javascript object>"
            ],
            "application/javascript": [
              "\n",
              "    async function download(id, filename, size) {\n",
              "      if (!google.colab.kernel.accessAllowed) {\n",
              "        return;\n",
              "      }\n",
              "      const div = document.createElement('div');\n",
              "      const label = document.createElement('label');\n",
              "      label.textContent = `Downloading \"${filename}\": `;\n",
              "      div.appendChild(label);\n",
              "      const progress = document.createElement('progress');\n",
              "      progress.max = size;\n",
              "      div.appendChild(progress);\n",
              "      document.body.appendChild(div);\n",
              "\n",
              "      const buffers = [];\n",
              "      let downloaded = 0;\n",
              "\n",
              "      const channel = await google.colab.kernel.comms.open(id);\n",
              "      // Send a message to notify the kernel that we're ready.\n",
              "      channel.send({})\n",
              "\n",
              "      for await (const message of channel.messages) {\n",
              "        // Send a message to notify the kernel that we're ready.\n",
              "        channel.send({})\n",
              "        if (message.buffers) {\n",
              "          for (const buffer of message.buffers) {\n",
              "            buffers.push(buffer);\n",
              "            downloaded += buffer.byteLength;\n",
              "            progress.value = downloaded;\n",
              "          }\n",
              "        }\n",
              "      }\n",
              "      const blob = new Blob(buffers, {type: 'application/binary'});\n",
              "      const a = document.createElement('a');\n",
              "      a.href = window.URL.createObjectURL(blob);\n",
              "      a.download = filename;\n",
              "      div.appendChild(a);\n",
              "      a.click();\n",
              "      div.remove();\n",
              "    }\n",
              "  "
            ]
          },
          "metadata": {}
        },
        {
          "output_type": "display_data",
          "data": {
            "text/plain": [
              "<IPython.core.display.Javascript object>"
            ],
            "application/javascript": [
              "download(\"download_aaad67b2-13d8-4819-8170-1052f668da27\", \"processed_test_updated.csv\", 27320703)"
            ]
          },
          "metadata": {}
        }
      ]
    }
  ]
}